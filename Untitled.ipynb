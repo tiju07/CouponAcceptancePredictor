{
 "cells": [
  {
   "cell_type": "markdown",
   "id": "db650f8f",
   "metadata": {},
   "source": [
    "# Importing Libraries and the Dataset"
   ]
  },
  {
   "cell_type": "code",
   "execution_count": 206,
   "id": "a8758663",
   "metadata": {},
   "outputs": [],
   "source": [
    "import numpy as np, pandas as pd, seaborn as sns, matplotlib.pyplot as plt, re"
   ]
  },
  {
   "cell_type": "code",
   "execution_count": 207,
   "id": "5805c7b5",
   "metadata": {},
   "outputs": [],
   "source": [
    "pd.set_option('display.max_columns', None)"
   ]
  },
  {
   "cell_type": "code",
   "execution_count": 208,
   "id": "da4f91df",
   "metadata": {},
   "outputs": [],
   "source": [
    "df = pd.read_csv('in-vehicle-coupon-recommendation.csv')"
   ]
  },
  {
   "cell_type": "code",
   "execution_count": 209,
   "id": "3d3bca51",
   "metadata": {},
   "outputs": [
    {
     "data": {
      "text/html": [
       "<div>\n",
       "<style scoped>\n",
       "    .dataframe tbody tr th:only-of-type {\n",
       "        vertical-align: middle;\n",
       "    }\n",
       "\n",
       "    .dataframe tbody tr th {\n",
       "        vertical-align: top;\n",
       "    }\n",
       "\n",
       "    .dataframe thead th {\n",
       "        text-align: right;\n",
       "    }\n",
       "</style>\n",
       "<table border=\"1\" class=\"dataframe\">\n",
       "  <thead>\n",
       "    <tr style=\"text-align: right;\">\n",
       "      <th></th>\n",
       "      <th>destination</th>\n",
       "      <th>passanger</th>\n",
       "      <th>weather</th>\n",
       "      <th>temperature</th>\n",
       "      <th>time</th>\n",
       "      <th>coupon</th>\n",
       "      <th>expiration</th>\n",
       "      <th>gender</th>\n",
       "      <th>age</th>\n",
       "      <th>maritalStatus</th>\n",
       "      <th>has_children</th>\n",
       "      <th>education</th>\n",
       "      <th>occupation</th>\n",
       "      <th>income</th>\n",
       "      <th>car</th>\n",
       "      <th>Bar</th>\n",
       "      <th>CoffeeHouse</th>\n",
       "      <th>CarryAway</th>\n",
       "      <th>RestaurantLessThan20</th>\n",
       "      <th>Restaurant20To50</th>\n",
       "      <th>toCoupon_GEQ5min</th>\n",
       "      <th>toCoupon_GEQ15min</th>\n",
       "      <th>toCoupon_GEQ25min</th>\n",
       "      <th>direction_same</th>\n",
       "      <th>direction_opp</th>\n",
       "      <th>Y</th>\n",
       "    </tr>\n",
       "  </thead>\n",
       "  <tbody>\n",
       "    <tr>\n",
       "      <th>0</th>\n",
       "      <td>No Urgent Place</td>\n",
       "      <td>Alone</td>\n",
       "      <td>Sunny</td>\n",
       "      <td>55</td>\n",
       "      <td>2PM</td>\n",
       "      <td>Restaurant(&lt;20)</td>\n",
       "      <td>1d</td>\n",
       "      <td>Female</td>\n",
       "      <td>21</td>\n",
       "      <td>Unmarried partner</td>\n",
       "      <td>1</td>\n",
       "      <td>Some college - no degree</td>\n",
       "      <td>Unemployed</td>\n",
       "      <td>$37500 - $49999</td>\n",
       "      <td>NaN</td>\n",
       "      <td>never</td>\n",
       "      <td>never</td>\n",
       "      <td>NaN</td>\n",
       "      <td>4~8</td>\n",
       "      <td>1~3</td>\n",
       "      <td>1</td>\n",
       "      <td>0</td>\n",
       "      <td>0</td>\n",
       "      <td>0</td>\n",
       "      <td>1</td>\n",
       "      <td>1</td>\n",
       "    </tr>\n",
       "    <tr>\n",
       "      <th>1</th>\n",
       "      <td>No Urgent Place</td>\n",
       "      <td>Friend(s)</td>\n",
       "      <td>Sunny</td>\n",
       "      <td>80</td>\n",
       "      <td>10AM</td>\n",
       "      <td>Coffee House</td>\n",
       "      <td>2h</td>\n",
       "      <td>Female</td>\n",
       "      <td>21</td>\n",
       "      <td>Unmarried partner</td>\n",
       "      <td>1</td>\n",
       "      <td>Some college - no degree</td>\n",
       "      <td>Unemployed</td>\n",
       "      <td>$37500 - $49999</td>\n",
       "      <td>NaN</td>\n",
       "      <td>never</td>\n",
       "      <td>never</td>\n",
       "      <td>NaN</td>\n",
       "      <td>4~8</td>\n",
       "      <td>1~3</td>\n",
       "      <td>1</td>\n",
       "      <td>0</td>\n",
       "      <td>0</td>\n",
       "      <td>0</td>\n",
       "      <td>1</td>\n",
       "      <td>0</td>\n",
       "    </tr>\n",
       "    <tr>\n",
       "      <th>2</th>\n",
       "      <td>No Urgent Place</td>\n",
       "      <td>Friend(s)</td>\n",
       "      <td>Sunny</td>\n",
       "      <td>80</td>\n",
       "      <td>10AM</td>\n",
       "      <td>Carry out &amp; Take away</td>\n",
       "      <td>2h</td>\n",
       "      <td>Female</td>\n",
       "      <td>21</td>\n",
       "      <td>Unmarried partner</td>\n",
       "      <td>1</td>\n",
       "      <td>Some college - no degree</td>\n",
       "      <td>Unemployed</td>\n",
       "      <td>$37500 - $49999</td>\n",
       "      <td>NaN</td>\n",
       "      <td>never</td>\n",
       "      <td>never</td>\n",
       "      <td>NaN</td>\n",
       "      <td>4~8</td>\n",
       "      <td>1~3</td>\n",
       "      <td>1</td>\n",
       "      <td>1</td>\n",
       "      <td>0</td>\n",
       "      <td>0</td>\n",
       "      <td>1</td>\n",
       "      <td>1</td>\n",
       "    </tr>\n",
       "    <tr>\n",
       "      <th>3</th>\n",
       "      <td>No Urgent Place</td>\n",
       "      <td>Friend(s)</td>\n",
       "      <td>Sunny</td>\n",
       "      <td>80</td>\n",
       "      <td>2PM</td>\n",
       "      <td>Coffee House</td>\n",
       "      <td>2h</td>\n",
       "      <td>Female</td>\n",
       "      <td>21</td>\n",
       "      <td>Unmarried partner</td>\n",
       "      <td>1</td>\n",
       "      <td>Some college - no degree</td>\n",
       "      <td>Unemployed</td>\n",
       "      <td>$37500 - $49999</td>\n",
       "      <td>NaN</td>\n",
       "      <td>never</td>\n",
       "      <td>never</td>\n",
       "      <td>NaN</td>\n",
       "      <td>4~8</td>\n",
       "      <td>1~3</td>\n",
       "      <td>1</td>\n",
       "      <td>1</td>\n",
       "      <td>0</td>\n",
       "      <td>0</td>\n",
       "      <td>1</td>\n",
       "      <td>0</td>\n",
       "    </tr>\n",
       "    <tr>\n",
       "      <th>4</th>\n",
       "      <td>No Urgent Place</td>\n",
       "      <td>Friend(s)</td>\n",
       "      <td>Sunny</td>\n",
       "      <td>80</td>\n",
       "      <td>2PM</td>\n",
       "      <td>Coffee House</td>\n",
       "      <td>1d</td>\n",
       "      <td>Female</td>\n",
       "      <td>21</td>\n",
       "      <td>Unmarried partner</td>\n",
       "      <td>1</td>\n",
       "      <td>Some college - no degree</td>\n",
       "      <td>Unemployed</td>\n",
       "      <td>$37500 - $49999</td>\n",
       "      <td>NaN</td>\n",
       "      <td>never</td>\n",
       "      <td>never</td>\n",
       "      <td>NaN</td>\n",
       "      <td>4~8</td>\n",
       "      <td>1~3</td>\n",
       "      <td>1</td>\n",
       "      <td>1</td>\n",
       "      <td>0</td>\n",
       "      <td>0</td>\n",
       "      <td>1</td>\n",
       "      <td>0</td>\n",
       "    </tr>\n",
       "  </tbody>\n",
       "</table>\n",
       "</div>"
      ],
      "text/plain": [
       "       destination  passanger weather  temperature  time  \\\n",
       "0  No Urgent Place      Alone   Sunny           55   2PM   \n",
       "1  No Urgent Place  Friend(s)   Sunny           80  10AM   \n",
       "2  No Urgent Place  Friend(s)   Sunny           80  10AM   \n",
       "3  No Urgent Place  Friend(s)   Sunny           80   2PM   \n",
       "4  No Urgent Place  Friend(s)   Sunny           80   2PM   \n",
       "\n",
       "                  coupon expiration  gender age      maritalStatus  \\\n",
       "0        Restaurant(<20)         1d  Female  21  Unmarried partner   \n",
       "1           Coffee House         2h  Female  21  Unmarried partner   \n",
       "2  Carry out & Take away         2h  Female  21  Unmarried partner   \n",
       "3           Coffee House         2h  Female  21  Unmarried partner   \n",
       "4           Coffee House         1d  Female  21  Unmarried partner   \n",
       "\n",
       "   has_children                 education  occupation           income  car  \\\n",
       "0             1  Some college - no degree  Unemployed  $37500 - $49999  NaN   \n",
       "1             1  Some college - no degree  Unemployed  $37500 - $49999  NaN   \n",
       "2             1  Some college - no degree  Unemployed  $37500 - $49999  NaN   \n",
       "3             1  Some college - no degree  Unemployed  $37500 - $49999  NaN   \n",
       "4             1  Some college - no degree  Unemployed  $37500 - $49999  NaN   \n",
       "\n",
       "     Bar CoffeeHouse CarryAway RestaurantLessThan20 Restaurant20To50  \\\n",
       "0  never       never       NaN                  4~8              1~3   \n",
       "1  never       never       NaN                  4~8              1~3   \n",
       "2  never       never       NaN                  4~8              1~3   \n",
       "3  never       never       NaN                  4~8              1~3   \n",
       "4  never       never       NaN                  4~8              1~3   \n",
       "\n",
       "   toCoupon_GEQ5min  toCoupon_GEQ15min  toCoupon_GEQ25min  direction_same  \\\n",
       "0                 1                  0                  0               0   \n",
       "1                 1                  0                  0               0   \n",
       "2                 1                  1                  0               0   \n",
       "3                 1                  1                  0               0   \n",
       "4                 1                  1                  0               0   \n",
       "\n",
       "   direction_opp  Y  \n",
       "0              1  1  \n",
       "1              1  0  \n",
       "2              1  1  \n",
       "3              1  0  \n",
       "4              1  0  "
      ]
     },
     "execution_count": 209,
     "metadata": {},
     "output_type": "execute_result"
    }
   ],
   "source": [
    "df.head()"
   ]
  },
  {
   "cell_type": "markdown",
   "id": "5e9ed232",
   "metadata": {},
   "source": [
    "# EDA"
   ]
  },
  {
   "cell_type": "code",
   "execution_count": 210,
   "id": "ab27373c",
   "metadata": {},
   "outputs": [
    {
     "data": {
      "text/plain": [
       "(12684, 26)"
      ]
     },
     "execution_count": 210,
     "metadata": {},
     "output_type": "execute_result"
    }
   ],
   "source": [
    "df.shape"
   ]
  },
  {
   "cell_type": "markdown",
   "id": "bf350502",
   "metadata": {},
   "source": [
    "### Finding Categorical Columns and the number of labels in each of those columns"
   ]
  },
  {
   "cell_type": "code",
   "execution_count": 211,
   "id": "ee11c701",
   "metadata": {},
   "outputs": [],
   "source": [
    "cat_cols = [(col,len(df[col].value_counts())) for col in df.columns if df[col].dtype == 'O']"
   ]
  },
  {
   "cell_type": "code",
   "execution_count": 212,
   "id": "3ceaf303",
   "metadata": {},
   "outputs": [
    {
     "data": {
      "text/plain": [
       "[('destination', 3),\n",
       " ('passanger', 4),\n",
       " ('weather', 3),\n",
       " ('time', 5),\n",
       " ('coupon', 5),\n",
       " ('expiration', 2),\n",
       " ('gender', 2),\n",
       " ('age', 8),\n",
       " ('maritalStatus', 5),\n",
       " ('education', 6),\n",
       " ('occupation', 25),\n",
       " ('income', 9),\n",
       " ('car', 5),\n",
       " ('Bar', 5),\n",
       " ('CoffeeHouse', 5),\n",
       " ('CarryAway', 5),\n",
       " ('RestaurantLessThan20', 5),\n",
       " ('Restaurant20To50', 5)]"
      ]
     },
     "execution_count": 212,
     "metadata": {},
     "output_type": "execute_result"
    }
   ],
   "source": [
    "cat_cols"
   ]
  },
  {
   "cell_type": "code",
   "execution_count": 213,
   "id": "819c2d84",
   "metadata": {},
   "outputs": [
    {
     "data": {
      "text/plain": [
       "18"
      ]
     },
     "execution_count": 213,
     "metadata": {},
     "output_type": "execute_result"
    }
   ],
   "source": [
    "len(cat_cols)"
   ]
  },
  {
   "cell_type": "markdown",
   "id": "afb5413e",
   "metadata": {},
   "source": [
    "### Presence of Null Values"
   ]
  },
  {
   "cell_type": "code",
   "execution_count": 214,
   "id": "2ff10f06",
   "metadata": {},
   "outputs": [
    {
     "data": {
      "text/plain": [
       "<AxesSubplot:>"
      ]
     },
     "execution_count": 214,
     "metadata": {},
     "output_type": "execute_result"
    },
    {
     "data": {
      "image/png": "[encoded data removed]",
      "text/plain": [
       "<Figure size 1080x720 with 2 Axes>"
      ]
     },
     "metadata": {
      "needs_background": "light"
     },
     "output_type": "display_data"
    }
   ],
   "source": [
    "plt.figure(figsize=(15,10))\n",
    "sns.heatmap(df.isnull())"
   ]
  },
  {
   "cell_type": "markdown",
   "id": "f905d236",
   "metadata": {},
   "source": [
    "### Following categories have missing values:\n",
    "    1. car\n",
    "    2. Bar\n",
    "    3. CoffeHouse\n",
    "    4. CarryAway\n",
    "    5. RestaurentLessThan20\n",
    "    6. Restaurent20to50"
   ]
  },
  {
   "cell_type": "code",
   "execution_count": 215,
   "id": "dd200fde",
   "metadata": {},
   "outputs": [
    {
     "data": {
      "text/plain": [
       "99.14853358561967"
      ]
     },
     "execution_count": 215,
     "metadata": {},
     "output_type": "execute_result"
    }
   ],
   "source": [
    "df['car'].isnull().value_counts()[1]/df.shape[0]*100"
   ]
  },
  {
   "cell_type": "code",
   "execution_count": 216,
   "id": "c26acf64",
   "metadata": {},
   "outputs": [],
   "source": [
    "# Column 'car' has more than 99% of missing values, so it is better to drop the column.\n",
    "df.drop('car', axis=1, inplace=True)"
   ]
  },
  {
   "cell_type": "code",
   "execution_count": 217,
   "id": "328c5cf2",
   "metadata": {
    "scrolled": true
   },
   "outputs": [
    {
     "data": {
      "text/plain": [
       "False    12577\n",
       "True       107\n",
       "Name: Bar, dtype: int64"
      ]
     },
     "execution_count": 217,
     "metadata": {},
     "output_type": "execute_result"
    }
   ],
   "source": [
    "df['Bar'].isnull().value_counts()"
   ]
  },
  {
   "cell_type": "code",
   "execution_count": 218,
   "id": "0fd110c5",
   "metadata": {},
   "outputs": [
    {
     "data": {
      "text/plain": [
       "never    5197\n",
       "less1    3482\n",
       "1~3      2473\n",
       "4~8      1076\n",
       "gt8       349\n",
       "Name: Bar, dtype: int64"
      ]
     },
     "execution_count": 218,
     "metadata": {},
     "output_type": "execute_result"
    }
   ],
   "source": [
    "df['Bar'].value_counts()"
   ]
  },
  {
   "cell_type": "code",
   "execution_count": 219,
   "id": "4091a804",
   "metadata": {},
   "outputs": [],
   "source": [
    "# Missing values in 'Bar' can be imputed with all the labels by equal distribution among them.(i.e. 20 for each label)\n",
    "df['Bar'].fillna(value='never', inplace=True, limit=20)\n",
    "df['Bar'].fillna(value='less1', inplace=True, limit=20)\n",
    "df['Bar'].fillna(value='1~3', inplace=True, limit=20)\n",
    "df['Bar'].fillna(value='4~8', inplace=True, limit=20)\n",
    "df['Bar'].fillna(value='gt8', inplace=True, limit=27)"
   ]
  },
  {
   "cell_type": "code",
   "execution_count": 220,
   "id": "53a3925e",
   "metadata": {},
   "outputs": [
    {
     "data": {
      "text/plain": [
       "False    12467\n",
       "True       217\n",
       "Name: CoffeeHouse, dtype: int64"
      ]
     },
     "execution_count": 220,
     "metadata": {},
     "output_type": "execute_result"
    }
   ],
   "source": [
    "df['CoffeeHouse'].isnull().value_counts()"
   ]
  },
  {
   "cell_type": "code",
   "execution_count": 221,
   "id": "d27f03d0",
   "metadata": {},
   "outputs": [
    {
     "data": {
      "text/plain": [
       "less1    3385\n",
       "1~3      3225\n",
       "never    2962\n",
       "4~8      1784\n",
       "gt8      1111\n",
       "Name: CoffeeHouse, dtype: int64"
      ]
     },
     "execution_count": 221,
     "metadata": {},
     "output_type": "execute_result"
    }
   ],
   "source": [
    "df['CoffeeHouse'].value_counts()"
   ]
  },
  {
   "cell_type": "code",
   "execution_count": 222,
   "id": "579a700e",
   "metadata": {},
   "outputs": [],
   "source": [
    "# Missing values in 'CoffeeHouse' can be imputed using the same method for 'Bar'\n",
    "df['CoffeeHouse'].fillna(value='less1', inplace=True, limit=40)\n",
    "df['CoffeeHouse'].fillna(value='1~3', inplace=True, limit=40)\n",
    "df['CoffeeHouse'].fillna(value='never', inplace=True, limit=40)\n",
    "df['CoffeeHouse'].fillna(value='4~8', inplace=True, limit=40)\n",
    "df['CoffeeHouse'].fillna(value='gt8', inplace=True, limit=57)"
   ]
  },
  {
   "cell_type": "code",
   "execution_count": 223,
   "id": "96165eee",
   "metadata": {},
   "outputs": [
    {
     "data": {
      "text/plain": [
       "False    12533\n",
       "True       151\n",
       "Name: CarryAway, dtype: int64"
      ]
     },
     "execution_count": 223,
     "metadata": {},
     "output_type": "execute_result"
    }
   ],
   "source": [
    "df['CarryAway'].isnull().value_counts()"
   ]
  },
  {
   "cell_type": "code",
   "execution_count": 224,
   "id": "6e104818",
   "metadata": {},
   "outputs": [
    {
     "data": {
      "text/plain": [
       "1~3      4672\n",
       "4~8      4258\n",
       "less1    1856\n",
       "gt8      1594\n",
       "never     153\n",
       "Name: CarryAway, dtype: int64"
      ]
     },
     "execution_count": 224,
     "metadata": {},
     "output_type": "execute_result"
    }
   ],
   "source": [
    "df['CarryAway'].value_counts()"
   ]
  },
  {
   "cell_type": "code",
   "execution_count": 225,
   "id": "881c0d04",
   "metadata": {},
   "outputs": [],
   "source": [
    "# Same imputation method as above\n",
    "df['CarryAway'].fillna(value='1~3', inplace=True, limit=30)\n",
    "df['CarryAway'].fillna(value='4~8', inplace=True, limit=30)\n",
    "df['CarryAway'].fillna(value='less1', inplace=True, limit=30)\n",
    "df['CarryAway'].fillna(value='gt8', inplace=True, limit=30)\n",
    "df['CarryAway'].fillna(value='never', inplace=True, limit=31)"
   ]
  },
  {
   "cell_type": "code",
   "execution_count": 226,
   "id": "770a4af5",
   "metadata": {},
   "outputs": [
    {
     "data": {
      "text/plain": [
       "False    12554\n",
       "True       130\n",
       "Name: RestaurantLessThan20, dtype: int64"
      ]
     },
     "execution_count": 226,
     "metadata": {},
     "output_type": "execute_result"
    }
   ],
   "source": [
    "df['RestaurantLessThan20'].isnull().value_counts()"
   ]
  },
  {
   "cell_type": "code",
   "execution_count": 227,
   "id": "c9c13c8f",
   "metadata": {},
   "outputs": [
    {
     "data": {
      "text/plain": [
       "1~3      5376\n",
       "4~8      3580\n",
       "less1    2093\n",
       "gt8      1285\n",
       "never     220\n",
       "Name: RestaurantLessThan20, dtype: int64"
      ]
     },
     "execution_count": 227,
     "metadata": {},
     "output_type": "execute_result"
    }
   ],
   "source": [
    "df['RestaurantLessThan20'].value_counts()"
   ]
  },
  {
   "cell_type": "code",
   "execution_count": 228,
   "id": "ee72ca09",
   "metadata": {},
   "outputs": [],
   "source": [
    "# Same imputation method as above\n",
    "df['RestaurantLessThan20'].fillna(value='1~3', inplace=True, limit=26)\n",
    "df['RestaurantLessThan20'].fillna(value='4~8', inplace=True, limit=26)\n",
    "df['RestaurantLessThan20'].fillna(value='less1', inplace=True, limit=26)\n",
    "df['RestaurantLessThan20'].fillna(value='gt8', inplace=True, limit=26)\n",
    "df['RestaurantLessThan20'].fillna(value='never', inplace=True, limit=26)"
   ]
  },
  {
   "cell_type": "code",
   "execution_count": 229,
   "id": "86713e84",
   "metadata": {},
   "outputs": [
    {
     "data": {
      "text/plain": [
       "False    12495\n",
       "True       189\n",
       "Name: Restaurant20To50, dtype: int64"
      ]
     },
     "execution_count": 229,
     "metadata": {},
     "output_type": "execute_result"
    }
   ],
   "source": [
    "df['Restaurant20To50'].isnull().value_counts()"
   ]
  },
  {
   "cell_type": "code",
   "execution_count": 230,
   "id": "7781c3fb",
   "metadata": {},
   "outputs": [
    {
     "data": {
      "text/plain": [
       "less1    6077\n",
       "1~3      3290\n",
       "never    2136\n",
       "4~8       728\n",
       "gt8       264\n",
       "Name: Restaurant20To50, dtype: int64"
      ]
     },
     "execution_count": 230,
     "metadata": {},
     "output_type": "execute_result"
    }
   ],
   "source": [
    "df['Restaurant20To50'].value_counts()"
   ]
  },
  {
   "cell_type": "code",
   "execution_count": 231,
   "id": "9e9f2978",
   "metadata": {},
   "outputs": [],
   "source": [
    "# Same imputation method as above\n",
    "df['Restaurant20To50'].fillna(value='less1', inplace=True, limit=37)\n",
    "df['Restaurant20To50'].fillna(value='1~3', inplace=True, limit=37)\n",
    "df['Restaurant20To50'].fillna(value='never', inplace=True, limit=37)\n",
    "df['Restaurant20To50'].fillna(value='4~8', inplace=True, limit=37)\n",
    "df['Restaurant20To50'].fillna(value='gt8', inplace=True, limit=41)"
   ]
  },
  {
   "cell_type": "code",
   "execution_count": 232,
   "id": "1c16d9b4",
   "metadata": {},
   "outputs": [
    {
     "data": {
      "text/plain": [
       "<AxesSubplot:>"
      ]
     },
     "execution_count": 232,
     "metadata": {},
     "output_type": "execute_result"
    },
    {
     "data": {
      "image/png": "[encoded data removed]",
      "text/plain": [
       "<Figure size 1080x720 with 2 Axes>"
      ]
     },
     "metadata": {
      "needs_background": "light"
     },
     "output_type": "display_data"
    }
   ],
   "source": [
    "plt.figure(figsize=(15,10))\n",
    "sns.heatmap(df.isnull())"
   ]
  },
  {
   "cell_type": "code",
   "execution_count": 233,
   "id": "f90c71d4",
   "metadata": {},
   "outputs": [
    {
     "data": {
      "text/html": [
       "<div>\n",
       "<style scoped>\n",
       "    .dataframe tbody tr th:only-of-type {\n",
       "        vertical-align: middle;\n",
       "    }\n",
       "\n",
       "    .dataframe tbody tr th {\n",
       "        vertical-align: top;\n",
       "    }\n",
       "\n",
       "    .dataframe thead th {\n",
       "        text-align: right;\n",
       "    }\n",
       "</style>\n",
       "<table border=\"1\" class=\"dataframe\">\n",
       "  <thead>\n",
       "    <tr style=\"text-align: right;\">\n",
       "      <th></th>\n",
       "      <th>destination</th>\n",
       "      <th>passanger</th>\n",
       "      <th>weather</th>\n",
       "      <th>temperature</th>\n",
       "      <th>time</th>\n",
       "      <th>coupon</th>\n",
       "      <th>expiration</th>\n",
       "      <th>gender</th>\n",
       "      <th>age</th>\n",
       "      <th>maritalStatus</th>\n",
       "      <th>has_children</th>\n",
       "      <th>education</th>\n",
       "      <th>occupation</th>\n",
       "      <th>income</th>\n",
       "      <th>Bar</th>\n",
       "      <th>CoffeeHouse</th>\n",
       "      <th>CarryAway</th>\n",
       "      <th>RestaurantLessThan20</th>\n",
       "      <th>Restaurant20To50</th>\n",
       "      <th>toCoupon_GEQ5min</th>\n",
       "      <th>toCoupon_GEQ15min</th>\n",
       "      <th>toCoupon_GEQ25min</th>\n",
       "      <th>direction_same</th>\n",
       "      <th>direction_opp</th>\n",
       "      <th>Y</th>\n",
       "    </tr>\n",
       "  </thead>\n",
       "  <tbody>\n",
       "    <tr>\n",
       "      <th>0</th>\n",
       "      <td>No Urgent Place</td>\n",
       "      <td>Alone</td>\n",
       "      <td>Sunny</td>\n",
       "      <td>55</td>\n",
       "      <td>2PM</td>\n",
       "      <td>Restaurant(&lt;20)</td>\n",
       "      <td>1d</td>\n",
       "      <td>Female</td>\n",
       "      <td>21</td>\n",
       "      <td>Unmarried partner</td>\n",
       "      <td>1</td>\n",
       "      <td>Some college - no degree</td>\n",
       "      <td>Unemployed</td>\n",
       "      <td>$37500 - $49999</td>\n",
       "      <td>never</td>\n",
       "      <td>never</td>\n",
       "      <td>1~3</td>\n",
       "      <td>4~8</td>\n",
       "      <td>1~3</td>\n",
       "      <td>1</td>\n",
       "      <td>0</td>\n",
       "      <td>0</td>\n",
       "      <td>0</td>\n",
       "      <td>1</td>\n",
       "      <td>1</td>\n",
       "    </tr>\n",
       "    <tr>\n",
       "      <th>1</th>\n",
       "      <td>No Urgent Place</td>\n",
       "      <td>Friend(s)</td>\n",
       "      <td>Sunny</td>\n",
       "      <td>80</td>\n",
       "      <td>10AM</td>\n",
       "      <td>Coffee House</td>\n",
       "      <td>2h</td>\n",
       "      <td>Female</td>\n",
       "      <td>21</td>\n",
       "      <td>Unmarried partner</td>\n",
       "      <td>1</td>\n",
       "      <td>Some college - no degree</td>\n",
       "      <td>Unemployed</td>\n",
       "      <td>$37500 - $49999</td>\n",
       "      <td>never</td>\n",
       "      <td>never</td>\n",
       "      <td>1~3</td>\n",
       "      <td>4~8</td>\n",
       "      <td>1~3</td>\n",
       "      <td>1</td>\n",
       "      <td>0</td>\n",
       "      <td>0</td>\n",
       "      <td>0</td>\n",
       "      <td>1</td>\n",
       "      <td>0</td>\n",
       "    </tr>\n",
       "    <tr>\n",
       "      <th>2</th>\n",
       "      <td>No Urgent Place</td>\n",
       "      <td>Friend(s)</td>\n",
       "      <td>Sunny</td>\n",
       "      <td>80</td>\n",
       "      <td>10AM</td>\n",
       "      <td>Carry out &amp; Take away</td>\n",
       "      <td>2h</td>\n",
       "      <td>Female</td>\n",
       "      <td>21</td>\n",
       "      <td>Unmarried partner</td>\n",
       "      <td>1</td>\n",
       "      <td>Some college - no degree</td>\n",
       "      <td>Unemployed</td>\n",
       "      <td>$37500 - $49999</td>\n",
       "      <td>never</td>\n",
       "      <td>never</td>\n",
       "      <td>1~3</td>\n",
       "      <td>4~8</td>\n",
       "      <td>1~3</td>\n",
       "      <td>1</td>\n",
       "      <td>1</td>\n",
       "      <td>0</td>\n",
       "      <td>0</td>\n",
       "      <td>1</td>\n",
       "      <td>1</td>\n",
       "    </tr>\n",
       "    <tr>\n",
       "      <th>3</th>\n",
       "      <td>No Urgent Place</td>\n",
       "      <td>Friend(s)</td>\n",
       "      <td>Sunny</td>\n",
       "      <td>80</td>\n",
       "      <td>2PM</td>\n",
       "      <td>Coffee House</td>\n",
       "      <td>2h</td>\n",
       "      <td>Female</td>\n",
       "      <td>21</td>\n",
       "      <td>Unmarried partner</td>\n",
       "      <td>1</td>\n",
       "      <td>Some college - no degree</td>\n",
       "      <td>Unemployed</td>\n",
       "      <td>$37500 - $49999</td>\n",
       "      <td>never</td>\n",
       "      <td>never</td>\n",
       "      <td>1~3</td>\n",
       "      <td>4~8</td>\n",
       "      <td>1~3</td>\n",
       "      <td>1</td>\n",
       "      <td>1</td>\n",
       "      <td>0</td>\n",
       "      <td>0</td>\n",
       "      <td>1</td>\n",
       "      <td>0</td>\n",
       "    </tr>\n",
       "    <tr>\n",
       "      <th>4</th>\n",
       "      <td>No Urgent Place</td>\n",
       "      <td>Friend(s)</td>\n",
       "      <td>Sunny</td>\n",
       "      <td>80</td>\n",
       "      <td>2PM</td>\n",
       "      <td>Coffee House</td>\n",
       "      <td>1d</td>\n",
       "      <td>Female</td>\n",
       "      <td>21</td>\n",
       "      <td>Unmarried partner</td>\n",
       "      <td>1</td>\n",
       "      <td>Some college - no degree</td>\n",
       "      <td>Unemployed</td>\n",
       "      <td>$37500 - $49999</td>\n",
       "      <td>never</td>\n",
       "      <td>never</td>\n",
       "      <td>1~3</td>\n",
       "      <td>4~8</td>\n",
       "      <td>1~3</td>\n",
       "      <td>1</td>\n",
       "      <td>1</td>\n",
       "      <td>0</td>\n",
       "      <td>0</td>\n",
       "      <td>1</td>\n",
       "      <td>0</td>\n",
       "    </tr>\n",
       "  </tbody>\n",
       "</table>\n",
       "</div>"
      ],
      "text/plain": [
       "       destination  passanger weather  temperature  time  \\\n",
       "0  No Urgent Place      Alone   Sunny           55   2PM   \n",
       "1  No Urgent Place  Friend(s)   Sunny           80  10AM   \n",
       "2  No Urgent Place  Friend(s)   Sunny           80  10AM   \n",
       "3  No Urgent Place  Friend(s)   Sunny           80   2PM   \n",
       "4  No Urgent Place  Friend(s)   Sunny           80   2PM   \n",
       "\n",
       "                  coupon expiration  gender age      maritalStatus  \\\n",
       "0        Restaurant(<20)         1d  Female  21  Unmarried partner   \n",
       "1           Coffee House         2h  Female  21  Unmarried partner   \n",
       "2  Carry out & Take away         2h  Female  21  Unmarried partner   \n",
       "3           Coffee House         2h  Female  21  Unmarried partner   \n",
       "4           Coffee House         1d  Female  21  Unmarried partner   \n",
       "\n",
       "   has_children                 education  occupation           income    Bar  \\\n",
       "0             1  Some college - no degree  Unemployed  $37500 - $49999  never   \n",
       "1             1  Some college - no degree  Unemployed  $37500 - $49999  never   \n",
       "2             1  Some college - no degree  Unemployed  $37500 - $49999  never   \n",
       "3             1  Some college - no degree  Unemployed  $37500 - $49999  never   \n",
       "4             1  Some college - no degree  Unemployed  $37500 - $49999  never   \n",
       "\n",
       "  CoffeeHouse CarryAway RestaurantLessThan20 Restaurant20To50  \\\n",
       "0       never       1~3                  4~8              1~3   \n",
       "1       never       1~3                  4~8              1~3   \n",
       "2       never       1~3                  4~8              1~3   \n",
       "3       never       1~3                  4~8              1~3   \n",
       "4       never       1~3                  4~8              1~3   \n",
       "\n",
       "   toCoupon_GEQ5min  toCoupon_GEQ15min  toCoupon_GEQ25min  direction_same  \\\n",
       "0                 1                  0                  0               0   \n",
       "1                 1                  0                  0               0   \n",
       "2                 1                  1                  0               0   \n",
       "3                 1                  1                  0               0   \n",
       "4                 1                  1                  0               0   \n",
       "\n",
       "   direction_opp  Y  \n",
       "0              1  1  \n",
       "1              1  0  \n",
       "2              1  1  \n",
       "3              1  0  \n",
       "4              1  0  "
      ]
     },
     "execution_count": 233,
     "metadata": {},
     "output_type": "execute_result"
    }
   ],
   "source": [
    "df.head()"
   ]
  },
  {
   "cell_type": "code",
   "execution_count": 234,
   "id": "1d41b6b7",
   "metadata": {},
   "outputs": [
    {
     "name": "stdout",
     "output_type": "stream",
     "text": [
      "[('destination', 3), ('passanger', 4), ('weather', 3), ('time', 5), ('coupon', 5), ('expiration', 2), ('gender', 2), ('age', 8), ('maritalStatus', 5), ('education', 6), ('occupation', 25), ('income', 9), ('car', 5), ('Bar', 5), ('CoffeeHouse', 5), ('CarryAway', 5), ('RestaurantLessThan20', 5), ('Restaurant20To50', 5)]\n"
     ]
    }
   ],
   "source": [
    "print(cat_cols)"
   ]
  },
  {
   "cell_type": "code",
   "execution_count": 235,
   "id": "75812e9e",
   "metadata": {},
   "outputs": [
    {
     "data": {
      "text/plain": [
       "No Urgent Place    6283\n",
       "Home               3237\n",
       "Work               3164\n",
       "Name: destination, dtype: int64"
      ]
     },
     "execution_count": 235,
     "metadata": {},
     "output_type": "execute_result"
    }
   ],
   "source": [
    "df['destination'].value_counts()"
   ]
  },
  {
   "cell_type": "code",
   "execution_count": 236,
   "id": "32527cc9",
   "metadata": {},
   "outputs": [
    {
     "data": {
      "text/plain": [
       "Alone        7305\n",
       "Friend(s)    3298\n",
       "Partner      1075\n",
       "Kid(s)       1006\n",
       "Name: passanger, dtype: int64"
      ]
     },
     "execution_count": 236,
     "metadata": {},
     "output_type": "execute_result"
    }
   ],
   "source": [
    "df['passanger'].value_counts()"
   ]
  },
  {
   "cell_type": "code",
   "execution_count": 237,
   "id": "80cda39d",
   "metadata": {},
   "outputs": [
    {
     "data": {
      "text/plain": [
       "Sunny    10069\n",
       "Snowy     1405\n",
       "Rainy     1210\n",
       "Name: weather, dtype: int64"
      ]
     },
     "execution_count": 237,
     "metadata": {},
     "output_type": "execute_result"
    }
   ],
   "source": [
    "df['weather'].value_counts()"
   ]
  },
  {
   "cell_type": "code",
   "execution_count": 238,
   "id": "5f381277",
   "metadata": {
    "scrolled": true
   },
   "outputs": [
    {
     "data": {
      "text/plain": [
       "6PM     3230\n",
       "7AM     3164\n",
       "10AM    2275\n",
       "2PM     2009\n",
       "10PM    2006\n",
       "Name: time, dtype: int64"
      ]
     },
     "execution_count": 238,
     "metadata": {},
     "output_type": "execute_result"
    }
   ],
   "source": [
    "df['time'].value_counts()"
   ]
  },
  {
   "cell_type": "markdown",
   "id": "f68b58e1",
   "metadata": {},
   "source": [
    "#### Time can be converted into a numerical feature using some regex"
   ]
  },
  {
   "cell_type": "code",
   "execution_count": 239,
   "id": "3f69479d",
   "metadata": {},
   "outputs": [
    {
     "data": {
      "text/plain": [
       "'9'"
      ]
     },
     "execution_count": 239,
     "metadata": {},
     "output_type": "execute_result"
    }
   ],
   "source": [
    "re.split('(\\d+)', '9PM')[1]"
   ]
  },
  {
   "cell_type": "code",
   "execution_count": 240,
   "id": "8c1c4ade",
   "metadata": {},
   "outputs": [],
   "source": [
    "df['time'] = pd.to_numeric(df['time'].map(lambda x: re.split('(\\d+)', x)[1]))"
   ]
  },
  {
   "cell_type": "code",
   "execution_count": 241,
   "id": "577cda3f",
   "metadata": {},
   "outputs": [
    {
     "data": {
      "text/plain": [
       "Coffee House             3996\n",
       "Restaurant(<20)          2786\n",
       "Carry out & Take away    2393\n",
       "Bar                      2017\n",
       "Restaurant(20-50)        1492\n",
       "Name: coupon, dtype: int64"
      ]
     },
     "execution_count": 241,
     "metadata": {},
     "output_type": "execute_result"
    }
   ],
   "source": [
    "df['coupon'].value_counts()"
   ]
  },
  {
   "cell_type": "code",
   "execution_count": 242,
   "id": "56dae649",
   "metadata": {},
   "outputs": [
    {
     "data": {
      "text/plain": [
       "1d    7091\n",
       "2h    5593\n",
       "Name: expiration, dtype: int64"
      ]
     },
     "execution_count": 242,
     "metadata": {},
     "output_type": "execute_result"
    }
   ],
   "source": [
    "df['expiration'].value_counts()"
   ]
  },
  {
   "cell_type": "markdown",
   "id": "94644b26",
   "metadata": {},
   "source": [
    "#### Expiration can also be converted to a numerical feature"
   ]
  },
  {
   "cell_type": "code",
   "execution_count": 243,
   "id": "a6761b07",
   "metadata": {},
   "outputs": [],
   "source": [
    "exp = {'1d':24, '2h':2}"
   ]
  },
  {
   "cell_type": "code",
   "execution_count": 244,
   "id": "606a5e70",
   "metadata": {},
   "outputs": [],
   "source": [
    "df['expiration'] = df['expiration'].map(exp)"
   ]
  },
  {
   "cell_type": "code",
   "execution_count": 245,
   "id": "b0574ab8",
   "metadata": {},
   "outputs": [
    {
     "data": {
      "text/plain": [
       "Female    6511\n",
       "Male      6173\n",
       "Name: gender, dtype: int64"
      ]
     },
     "execution_count": 245,
     "metadata": {},
     "output_type": "execute_result"
    }
   ],
   "source": [
    "df['gender'].value_counts()"
   ]
  },
  {
   "cell_type": "code",
   "execution_count": 246,
   "id": "89bc350d",
   "metadata": {},
   "outputs": [
    {
     "data": {
      "text/plain": [
       "21         2653\n",
       "26         2559\n",
       "31         2039\n",
       "50plus     1788\n",
       "36         1319\n",
       "41         1093\n",
       "46          686\n",
       "below21     547\n",
       "Name: age, dtype: int64"
      ]
     },
     "execution_count": 246,
     "metadata": {},
     "output_type": "execute_result"
    }
   ],
   "source": [
    "df['age'].value_counts()"
   ]
  },
  {
   "cell_type": "markdown",
   "id": "dacb1f9f",
   "metadata": {},
   "source": [
    "#### Converting age to a numerical feature"
   ]
  },
  {
   "cell_type": "code",
   "execution_count": 248,
   "id": "37979e15",
   "metadata": {},
   "outputs": [],
   "source": [
    "age_map = {'50plus':55, 'below21':18, '21':21,'26':26, '31':31, '36':36, '41':41, '46':46}"
   ]
  },
  {
   "cell_type": "code",
   "execution_count": 250,
   "id": "4a0595e7",
   "metadata": {},
   "outputs": [],
   "source": [
    "df['age'] = pd.to_numeric(df['age'].map(age_map))"
   ]
  },
  {
   "cell_type": "code",
   "execution_count": 253,
   "id": "4fa06c21",
   "metadata": {},
   "outputs": [
    {
     "data": {
      "text/plain": [
       "Married partner      5100\n",
       "Single               4752\n",
       "Unmarried partner    2186\n",
       "Divorced              516\n",
       "Widowed               130\n",
       "Name: maritalStatus, dtype: int64"
      ]
     },
     "execution_count": 253,
     "metadata": {},
     "output_type": "execute_result"
    }
   ],
   "source": [
    "df['maritalStatus'].value_counts()"
   ]
  },
  {
   "cell_type": "code",
   "execution_count": 254,
   "id": "6a34f726",
   "metadata": {},
   "outputs": [
    {
     "data": {
      "text/plain": [
       "Some college - no degree                  4351\n",
       "Bachelors degree                          4335\n",
       "Graduate degree (Masters or Doctorate)    1852\n",
       "Associates degree                         1153\n",
       "High School Graduate                       905\n",
       "Some High School                            88\n",
       "Name: education, dtype: int64"
      ]
     },
     "execution_count": 254,
     "metadata": {},
     "output_type": "execute_result"
    }
   ],
   "source": [
    "df['education'].value_counts()"
   ]
  },
  {
   "cell_type": "code",
   "execution_count": 260,
   "id": "bb62d580",
   "metadata": {
    "scrolled": true
   },
   "outputs": [
    {
     "data": {
      "text/plain": [
       "Unemployed                                   1870\n",
       "Student                                      1584\n",
       "Computer & Mathematical                      1408\n",
       "Sales & Related                              1093\n",
       "Education&Training&Library                    943\n",
       "Management                                    838\n",
       "Office & Administrative Support               639\n",
       "Arts Design Entertainment Sports & Media      629\n",
       "Business & Financial                          544\n",
       "Retired                                       495\n",
       "Food Preparation & Serving Related            298\n",
       "Healthcare Practitioners & Technical          244\n",
       "Healthcare Support                            242\n",
       "Community & Social Services                   241\n",
       "Legal                                         219\n",
       "Transportation & Material Moving              218\n",
       "Personal Care & Service                       175\n",
       "Protective Service                            175\n",
       "Architecture & Engineering                    175\n",
       "Life Physical Social Science                  170\n",
       "Construction & Extraction                     154\n",
       "Installation Maintenance & Repair             133\n",
       "Production Occupations                        110\n",
       "Building & Grounds Cleaning & Maintenance      44\n",
       "Farming Fishing & Forestry                     43\n",
       "Name: occupation, dtype: int64"
      ]
     },
     "execution_count": 260,
     "metadata": {},
     "output_type": "execute_result"
    }
   ],
   "source": [
    "df['occupation'].value_counts()"
   ]
  },
  {
   "cell_type": "code",
   "execution_count": 262,
   "id": "7b648d4a",
   "metadata": {},
   "outputs": [],
   "source": [
    "top_10_occupat = [occupat for occupat in df['occupation'].value_counts().index[:10]]"
   ]
  },
  {
   "cell_type": "code",
   "execution_count": 282,
   "id": "1728cae5",
   "metadata": {
    "scrolled": true
   },
   "outputs": [],
   "source": [
    "def occupat_imputer(i):\n",
    "    if i in top_10_occupat:\n",
    "        return i\n",
    "    else:\n",
    "        return 'Other'"
   ]
  },
  {
   "cell_type": "code",
   "execution_count": 285,
   "id": "ed56c173",
   "metadata": {},
   "outputs": [],
   "source": [
    "df['occupation'] = df['occupation'].apply(occupat_imputer)"
   ]
  },
  {
   "cell_type": "markdown",
   "id": "5c3ba2aa",
   "metadata": {},
   "source": [
    "#### Converting income to a numerical column"
   ]
  },
  {
   "cell_type": "code",
   "execution_count": 288,
   "id": "116cb3a7",
   "metadata": {},
   "outputs": [
    {
     "data": {
      "text/plain": [
       "$25000 - $37499     2013\n",
       "$12500 - $24999     1831\n",
       "$37500 - $49999     1805\n",
       "$100000 or More     1736\n",
       "$50000 - $62499     1659\n",
       "Less than $12500    1042\n",
       "$87500 - $99999      895\n",
       "$75000 - $87499      857\n",
       "$62500 - $74999      846\n",
       "Name: income, dtype: int64"
      ]
     },
     "execution_count": 288,
     "metadata": {},
     "output_type": "execute_result"
    }
   ],
   "source": [
    "df['income'].value_counts()"
   ]
  },
  {
   "cell_type": "code",
   "execution_count": 328,
   "id": "e891d547",
   "metadata": {},
   "outputs": [],
   "source": [
    "def income_imputer(df, col):\n",
    "    income_imputed = []\n",
    "    for i in df[col]:\n",
    "        inc = [int(i) for i in re.findall('(\\d+)', i)]\n",
    "        income_imputed.append(int(sum(inc)/len(inc)))\n",
    "    df[col] = income_imputed"
   ]
  },
  {
   "cell_type": "code",
   "execution_count": 329,
   "id": "956d0f43",
   "metadata": {},
   "outputs": [],
   "source": [
    "income_imputer(df, 'income')"
   ]
  },
  {
   "cell_type": "code",
   "execution_count": 330,
   "id": "65352c9c",
   "metadata": {},
   "outputs": [
    {
     "data": {
      "text/plain": [
       "31249     2013\n",
       "18749     1831\n",
       "43749     1805\n",
       "100000    1736\n",
       "56249     1659\n",
       "12500     1042\n",
       "93749      895\n",
       "81249      857\n",
       "68749      846\n",
       "Name: income, dtype: int64"
      ]
     },
     "execution_count": 330,
     "metadata": {},
     "output_type": "execute_result"
    }
   ],
   "source": [
    "df['income'].value_counts()"
   ]
  },
  {
   "cell_type": "markdown",
   "id": "404279f4",
   "metadata": {},
   "source": [
    "#### Bar ->> Numerical Column"
   ]
  },
  {
   "cell_type": "code",
   "execution_count": 332,
   "id": "81a0abcf",
   "metadata": {},
   "outputs": [
    {
     "data": {
      "text/plain": [
       "never    5217\n",
       "less1    3502\n",
       "1~3      2493\n",
       "4~8      1096\n",
       "gt8       376\n",
       "Name: Bar, dtype: int64"
      ]
     },
     "execution_count": 332,
     "metadata": {},
     "output_type": "execute_result"
    }
   ],
   "source": [
    "df['Bar'].value_counts()"
   ]
  },
  {
   "cell_type": "code",
   "execution_count": 333,
   "id": "d4350f5f",
   "metadata": {},
   "outputs": [],
   "source": [
    "bar_map = {'never':0, 'less1':1, '1~3':2, '4~8':6, 'gt8':9}\n",
    "df['Bar'] = df['Bar'].map(bar_map)"
   ]
  },
  {
   "cell_type": "code",
   "execution_count": 334,
   "id": "86c2c323",
   "metadata": {},
   "outputs": [
    {
     "data": {
      "text/plain": [
       "less1    3425\n",
       "1~3      3265\n",
       "never    3002\n",
       "4~8      1824\n",
       "gt8      1168\n",
       "Name: CoffeeHouse, dtype: int64"
      ]
     },
     "execution_count": 334,
     "metadata": {},
     "output_type": "execute_result"
    }
   ],
   "source": [
    "df['CoffeeHouse'].value_counts()"
   ]
  },
  {
   "cell_type": "code",
   "execution_count": 336,
   "id": "708826c9",
   "metadata": {},
   "outputs": [],
   "source": [
    "coffeehouse_map = {'never':0, 'less1':1, '1~3':2, '4~8':6, 'gt8':9}\n",
    "df['CoffeeHouse'] = df['CoffeeHouse'].map(coffeehouse_map)"
   ]
  },
  {
   "cell_type": "markdown",
   "id": "ce3d58dd",
   "metadata": {},
   "source": [
    "#### Same for CarryAway, RestaurentLessThan20, Restaurent20-50 --> Converting to numerical Columns"
   ]
  },
  {
   "cell_type": "code",
   "execution_count": 337,
   "id": "412311fb",
   "metadata": {},
   "outputs": [
    {
     "data": {
      "text/plain": [
       "1~3      4702\n",
       "4~8      4288\n",
       "less1    1886\n",
       "gt8      1624\n",
       "never     184\n",
       "Name: CarryAway, dtype: int64"
      ]
     },
     "execution_count": 337,
     "metadata": {},
     "output_type": "execute_result"
    }
   ],
   "source": [
    "df['CarryAway'].value_counts()"
   ]
  },
  {
   "cell_type": "code",
   "execution_count": 338,
   "id": "fb4cd315",
   "metadata": {},
   "outputs": [
    {
     "data": {
      "text/plain": [
       "1~3      5402\n",
       "4~8      3606\n",
       "less1    2119\n",
       "gt8      1311\n",
       "never     246\n",
       "Name: RestaurantLessThan20, dtype: int64"
      ]
     },
     "execution_count": 338,
     "metadata": {},
     "output_type": "execute_result"
    }
   ],
   "source": [
    "df['RestaurantLessThan20'].value_counts()"
   ]
  },
  {
   "cell_type": "code",
   "execution_count": 339,
   "id": "ff65b58f",
   "metadata": {},
   "outputs": [
    {
     "data": {
      "text/plain": [
       "less1    6114\n",
       "1~3      3327\n",
       "never    2173\n",
       "4~8       765\n",
       "gt8       305\n",
       "Name: Restaurant20To50, dtype: int64"
      ]
     },
     "execution_count": 339,
     "metadata": {},
     "output_type": "execute_result"
    }
   ],
   "source": [
    "df['Restaurant20To50'].value_counts()"
   ]
  },
  {
   "cell_type": "code",
   "execution_count": 340,
   "id": "3e561818",
   "metadata": {},
   "outputs": [],
   "source": [
    "common_map = {'never':0, 'less1':1, '1~3':2, '4~8':6, 'gt8':9}\n",
    "df['CarryAway'] = df['CarryAway'].map(common_map)\n",
    "df['RestaurantLessThan20'] = df['RestaurantLessThan20'].map(common_map)\n",
    "df['Restaurant20To50'] = df['Restaurant20To50'].map(common_map)"
   ]
  },
  {
   "cell_type": "code",
   "execution_count": 341,
   "id": "010a75e1",
   "metadata": {},
   "outputs": [],
   "source": [
    "cat_cols = [(col,len(df[col].value_counts())) for col in df.columns if df[col].dtype == 'O']"
   ]
  },
  {
   "cell_type": "code",
   "execution_count": 343,
   "id": "781b33a0",
   "metadata": {
    "scrolled": true
   },
   "outputs": [
    {
     "data": {
      "text/plain": [
       "[('destination', 3),\n",
       " ('passanger', 4),\n",
       " ('weather', 3),\n",
       " ('coupon', 5),\n",
       " ('gender', 2),\n",
       " ('maritalStatus', 5),\n",
       " ('education', 6),\n",
       " ('occupation', 11)]"
      ]
     },
     "execution_count": 343,
     "metadata": {},
     "output_type": "execute_result"
    }
   ],
   "source": [
    "cat_cols"
   ]
  },
  {
   "cell_type": "markdown",
   "id": "016ffa18",
   "metadata": {},
   "source": [
    "#### direction_same and direction_opp denote the same thing, so it is better to drop one of them."
   ]
  },
  {
   "cell_type": "code",
   "execution_count": 351,
   "id": "b38e72fd",
   "metadata": {},
   "outputs": [],
   "source": [
    "df.drop('direction_opp', axis=1, inplace=True)"
   ]
  },
  {
   "cell_type": "markdown",
   "id": "bc4ac732",
   "metadata": {},
   "source": [
    "### Encoding remaining categorical columns "
   ]
  },
  {
   "cell_type": "code",
   "execution_count": 353,
   "id": "681cb15f",
   "metadata": {},
   "outputs": [],
   "source": [
    "df_final = pd.get_dummies(df, drop_first=True)"
   ]
  },
  {
   "cell_type": "code",
   "execution_count": 357,
   "id": "bd4ff9da",
   "metadata": {},
   "outputs": [
    {
     "name": "stdout",
     "output_type": "stream",
     "text": [
      "<class 'pandas.core.frame.DataFrame'>\n",
      "RangeIndex: 12684 entries, 0 to 12683\n",
      "Data columns (total 47 columns):\n",
      " #   Column                                            Non-Null Count  Dtype\n",
      "---  ------                                            --------------  -----\n",
      " 0   temperature                                       12684 non-null  int64\n",
      " 1   time                                              12684 non-null  int64\n",
      " 2   expiration                                        12684 non-null  int64\n",
      " 3   age                                               12684 non-null  int64\n",
      " 4   has_children                                      12684 non-null  int64\n",
      " 5   income                                            12684 non-null  int64\n",
      " 6   Bar                                               12684 non-null  int64\n",
      " 7   CoffeeHouse                                       12684 non-null  int64\n",
      " 8   CarryAway                                         12684 non-null  int64\n",
      " 9   RestaurantLessThan20                              12684 non-null  int64\n",
      " 10  Restaurant20To50                                  12684 non-null  int64\n",
      " 11  toCoupon_GEQ5min                                  12684 non-null  int64\n",
      " 12  toCoupon_GEQ15min                                 12684 non-null  int64\n",
      " 13  toCoupon_GEQ25min                                 12684 non-null  int64\n",
      " 14  direction_same                                    12684 non-null  int64\n",
      " 15  Y                                                 12684 non-null  int64\n",
      " 16  destination_No Urgent Place                       12684 non-null  uint8\n",
      " 17  destination_Work                                  12684 non-null  uint8\n",
      " 18  passanger_Friend(s)                               12684 non-null  uint8\n",
      " 19  passanger_Kid(s)                                  12684 non-null  uint8\n",
      " 20  passanger_Partner                                 12684 non-null  uint8\n",
      " 21  weather_Snowy                                     12684 non-null  uint8\n",
      " 22  weather_Sunny                                     12684 non-null  uint8\n",
      " 23  coupon_Carry out & Take away                      12684 non-null  uint8\n",
      " 24  coupon_Coffee House                               12684 non-null  uint8\n",
      " 25  coupon_Restaurant(20-50)                          12684 non-null  uint8\n",
      " 26  coupon_Restaurant(<20)                            12684 non-null  uint8\n",
      " 27  gender_Male                                       12684 non-null  uint8\n",
      " 28  maritalStatus_Married partner                     12684 non-null  uint8\n",
      " 29  maritalStatus_Single                              12684 non-null  uint8\n",
      " 30  maritalStatus_Unmarried partner                   12684 non-null  uint8\n",
      " 31  maritalStatus_Widowed                             12684 non-null  uint8\n",
      " 32  education_Bachelors degree                        12684 non-null  uint8\n",
      " 33  education_Graduate degree (Masters or Doctorate)  12684 non-null  uint8\n",
      " 34  education_High School Graduate                    12684 non-null  uint8\n",
      " 35  education_Some High School                        12684 non-null  uint8\n",
      " 36  education_Some college - no degree                12684 non-null  uint8\n",
      " 37  occupation_Business & Financial                   12684 non-null  uint8\n",
      " 38  occupation_Computer & Mathematical                12684 non-null  uint8\n",
      " 39  occupation_Education&Training&Library             12684 non-null  uint8\n",
      " 40  occupation_Management                             12684 non-null  uint8\n",
      " 41  occupation_Office & Administrative Support        12684 non-null  uint8\n",
      " 42  occupation_Other                                  12684 non-null  uint8\n",
      " 43  occupation_Retired                                12684 non-null  uint8\n",
      " 44  occupation_Sales & Related                        12684 non-null  uint8\n",
      " 45  occupation_Student                                12684 non-null  uint8\n",
      " 46  occupation_Unemployed                             12684 non-null  uint8\n",
      "dtypes: int64(16), uint8(31)\n",
      "memory usage: 1.9 MB\n"
     ]
    }
   ],
   "source": [
    "df_final.info()"
   ]
  },
  {
   "cell_type": "markdown",
   "id": "c9f0e069",
   "metadata": {},
   "source": [
    "### Converting to train and test dataset"
   ]
  },
  {
   "cell_type": "code",
   "execution_count": 358,
   "id": "d98c4620",
   "metadata": {},
   "outputs": [],
   "source": [
    "X = df_final.drop('Y', axis=1)\n",
    "y = df_final['Y']"
   ]
  },
  {
   "cell_type": "code",
   "execution_count": 359,
   "id": "3054326c",
   "metadata": {},
   "outputs": [],
   "source": [
    "from sklearn.model_selection import train_test_split\n",
    "X_train, X_test, y_train, y_test = train_test_split(X, y, test_size=0.2, random_state=2)"
   ]
  },
  {
   "cell_type": "code",
   "execution_count": 363,
   "id": "cf25cc8a",
   "metadata": {
    "scrolled": false
   },
   "outputs": [
    {
     "data": {
      "text/plain": [
       "<AxesSubplot:>"
      ]
     },
     "execution_count": 363,
     "metadata": {},
     "output_type": "execute_result"
    },
    {
     "data": {
      "image/png": "[encoded data removed]",
      "text/plain": [
       "<Figure size 1728x1728 with 2 Axes>"
      ]
     },
     "metadata": {
      "needs_background": "light"
     },
     "output_type": "display_data"
    }
   ],
   "source": [
    "plt.figure(figsize=(24, 24))\n",
    "sns.heatmap(df_final.corr(), cmap='RdYlGn')"
   ]
  },
  {
   "cell_type": "code",
   "execution_count": 364,
   "id": "64c881d2",
   "metadata": {},
   "outputs": [
    {
     "data": {
      "text/plain": [
       "ExtraTreesRegressor()"
      ]
     },
     "execution_count": 364,
     "metadata": {},
     "output_type": "execute_result"
    }
   ],
   "source": [
    "from sklearn.ensemble import ExtraTreesRegressor\n",
    "selection = ExtraTreesRegressor()\n",
    "selection.fit(X, y)"
   ]
  },
  {
   "cell_type": "code",
   "execution_count": 367,
   "id": "42623e33",
   "metadata": {},
   "outputs": [
    {
     "data": {
      "image/png": "[encoded data removed]",
      "text/plain": [
       "<Figure size 864x576 with 1 Axes>"
      ]
     },
     "metadata": {
      "needs_background": "light"
     },
     "output_type": "display_data"
    }
   ],
   "source": [
    "plt.figure(figsize = (12,8))\n",
    "feat_importances = pd.Series(selection.feature_importances_, index=X.columns)\n",
    "feat_importances.nlargest(50).plot(kind='barh')\n",
    "plt.show()"
   ]
  },
  {
   "cell_type": "markdown",
   "id": "ed046896",
   "metadata": {},
   "source": [
    "# Predicting Test Set using Random Forest"
   ]
  },
  {
   "cell_type": "code",
   "execution_count": 368,
   "id": "176cac7c",
   "metadata": {},
   "outputs": [
    {
     "data": {
      "text/plain": [
       "RandomForestClassifier()"
      ]
     },
     "execution_count": 368,
     "metadata": {},
     "output_type": "execute_result"
    }
   ],
   "source": [
    "from sklearn.ensemble import RandomForestClassifier\n",
    "classif_rf = RandomForestClassifier()\n",
    "classif_rf.fit(X_train, y_train)"
   ]
  },
  {
   "cell_type": "code",
   "execution_count": 369,
   "id": "e1887d3b",
   "metadata": {},
   "outputs": [],
   "source": [
    "y_pred = classif_rf.predict(X_test)"
   ]
  },
  {
   "cell_type": "code",
   "execution_count": 370,
   "id": "d38a543b",
   "metadata": {},
   "outputs": [],
   "source": [
    "from sklearn.metrics import classification_report, confusion_matrix, accuracy_score"
   ]
  },
  {
   "cell_type": "code",
   "execution_count": 372,
   "id": "ce5a2c77",
   "metadata": {},
   "outputs": [
    {
     "name": "stdout",
     "output_type": "stream",
     "text": [
      "              precision    recall  f1-score   support\n",
      "\n",
      "           0       0.73      0.69      0.71      1072\n",
      "           1       0.78      0.82      0.80      1465\n",
      "\n",
      "    accuracy                           0.76      2537\n",
      "   macro avg       0.76      0.75      0.76      2537\n",
      "weighted avg       0.76      0.76      0.76      2537\n",
      "\n"
     ]
    }
   ],
   "source": [
    "print(classification_report(y_test, y_pred))"
   ]
  },
  {
   "cell_type": "code",
   "execution_count": 373,
   "id": "97f04005",
   "metadata": {},
   "outputs": [
    {
     "data": {
      "text/plain": [
       "array([[ 742,  330],\n",
       "       [ 268, 1197]], dtype=int64)"
      ]
     },
     "execution_count": 373,
     "metadata": {},
     "output_type": "execute_result"
    }
   ],
   "source": [
    "confusion_matrix(y_test, y_pred)"
   ]
  },
  {
   "cell_type": "code",
   "execution_count": 374,
   "id": "9026a1d5",
   "metadata": {},
   "outputs": [
    {
     "data": {
      "text/plain": [
       "0.7642885297595585"
      ]
     },
     "execution_count": 374,
     "metadata": {},
     "output_type": "execute_result"
    }
   ],
   "source": [
    "accuracy_score(y_test, y_pred)"
   ]
  },
  {
   "cell_type": "code",
   "execution_count": 375,
   "id": "0081694a",
   "metadata": {},
   "outputs": [],
   "source": [
    "from sklearn.model_selection import RandomizedSearchCV"
   ]
  },
  {
   "cell_type": "code",
   "execution_count": 391,
   "id": "77f3308f",
   "metadata": {},
   "outputs": [],
   "source": [
    "n_estimators = [int(x) for x in np.linspace(start = 100, stop = 1200, num = 12)]\n",
    "max_features = ['auto', 'sqrt']\n",
    "max_depth = [int(x) for x in np.linspace(5, 30, num = 6)]\n",
    "min_samples_split = [2, 5, 10, 15, 100]\n",
    "min_samples_leaf = [1, 2, 5, 10]"
   ]
  },
  {
   "cell_type": "code",
   "execution_count": 392,
   "id": "03907afc",
   "metadata": {},
   "outputs": [],
   "source": [
    "random_grid = {'n_estimators': n_estimators,\n",
    "               'max_features': max_features,\n",
    "               'max_depth': max_depth,\n",
    "               'min_samples_split': min_samples_split,\n",
    "               'min_samples_leaf': min_samples_leaf}"
   ]
  },
  {
   "cell_type": "code",
   "execution_count": 394,
   "id": "830f88e1",
   "metadata": {},
   "outputs": [],
   "source": [
    "rf_hp_tuned = RandomizedSearchCV(estimator = classif_rf, param_distributions = random_grid,scoring='neg_mean_squared_error', n_iter = 10, cv = 5, verbose=2, random_state=42, n_jobs = -1)"
   ]
  },
  {
   "cell_type": "code",
   "execution_count": 395,
   "id": "ed835d57",
   "metadata": {
    "scrolled": true
   },
   "outputs": [
    {
     "name": "stdout",
     "output_type": "stream",
     "text": [
      "Fitting 5 folds for each of 10 candidates, totalling 50 fits\n"
     ]
    },
    {
     "data": {
      "text/plain": [
       "RandomizedSearchCV(cv=5, estimator=RandomForestClassifier(), n_jobs=-1,\n",
       "                   param_distributions={'max_depth': [5, 10, 15, 20, 25, 30],\n",
       "                                        'max_features': ['auto', 'sqrt'],\n",
       "                                        'min_samples_leaf': [1, 2, 5, 10],\n",
       "                                        'min_samples_split': [2, 5, 10, 15,\n",
       "                                                              100],\n",
       "                                        'n_estimators': [100, 200, 300, 400,\n",
       "                                                         500, 600, 700, 800,\n",
       "                                                         900, 1000, 1100,\n",
       "                                                         1200]},\n",
       "                   random_state=42, scoring='neg_mean_squared_error',\n",
       "                   verbose=2)"
      ]
     },
     "execution_count": 395,
     "metadata": {},
     "output_type": "execute_result"
    }
   ],
   "source": [
    "rf_hp_tuned.fit(X_train, y_train)"
   ]
  },
  {
   "cell_type": "code",
   "execution_count": 396,
   "id": "071dd051",
   "metadata": {},
   "outputs": [
    {
     "data": {
      "text/plain": [
       "{'n_estimators': 1000,\n",
       " 'min_samples_split': 2,\n",
       " 'min_samples_leaf': 1,\n",
       " 'max_features': 'sqrt',\n",
       " 'max_depth': 25}"
      ]
     },
     "execution_count": 396,
     "metadata": {},
     "output_type": "execute_result"
    }
   ],
   "source": [
    "rf_hp_tuned.best_params_"
   ]
  },
  {
   "cell_type": "code",
   "execution_count": 397,
   "id": "c5e6292b",
   "metadata": {},
   "outputs": [],
   "source": [
    "y_pred_tuned = rf_hp_tuned.predict(X_test)"
   ]
  },
  {
   "cell_type": "code",
   "execution_count": 398,
   "id": "8d5d1992",
   "metadata": {},
   "outputs": [
    {
     "name": "stdout",
     "output_type": "stream",
     "text": [
      "              precision    recall  f1-score   support\n",
      "\n",
      "           0       0.75      0.70      0.72      1072\n",
      "           1       0.79      0.83      0.81      1465\n",
      "\n",
      "    accuracy                           0.78      2537\n",
      "   macro avg       0.77      0.77      0.77      2537\n",
      "weighted avg       0.77      0.78      0.77      2537\n",
      "\n"
     ]
    }
   ],
   "source": [
    "print(classification_report(y_test, y_pred_tuned))"
   ]
  },
  {
   "cell_type": "code",
   "execution_count": 399,
   "id": "2759c3e8",
   "metadata": {},
   "outputs": [
    {
     "data": {
      "text/plain": [
       "0.7761135199054001"
      ]
     },
     "execution_count": 399,
     "metadata": {},
     "output_type": "execute_result"
    }
   ],
   "source": [
    "accuracy_score(y_test, y_pred_tuned)"
   ]
  },
  {
   "cell_type": "markdown",
   "id": "54ec9077",
   "metadata": {},
   "source": [
    "## Adaboost"
   ]
  },
  {
   "cell_type": "code",
   "execution_count": 400,
   "id": "c4b511d8",
   "metadata": {},
   "outputs": [],
   "source": [
    "from sklearn.ensemble import AdaBoostClassifier\n",
    "classif_adaboost = AdaBoostClassifier()"
   ]
  },
  {
   "cell_type": "code",
   "execution_count": 401,
   "id": "3de70027",
   "metadata": {},
   "outputs": [
    {
     "data": {
      "text/plain": [
       "AdaBoostClassifier()"
      ]
     },
     "execution_count": 401,
     "metadata": {},
     "output_type": "execute_result"
    }
   ],
   "source": [
    "classif_adaboost.fit(X_train, y_train)"
   ]
  },
  {
   "cell_type": "code",
   "execution_count": 402,
   "id": "37236458",
   "metadata": {},
   "outputs": [],
   "source": [
    "y_pred_adaboost = classif_adaboost.predict(X_test)"
   ]
  },
  {
   "cell_type": "code",
   "execution_count": 403,
   "id": "3b58838b",
   "metadata": {},
   "outputs": [
    {
     "data": {
      "text/plain": [
       "0.6976744186046512"
      ]
     },
     "execution_count": 403,
     "metadata": {},
     "output_type": "execute_result"
    }
   ],
   "source": [
    "accuracy_score(y_test, y_pred_adaboost)"
   ]
  },
  {
   "cell_type": "markdown",
   "id": "fda790da",
   "metadata": {},
   "source": [
    "## XGBoost"
   ]
  },
  {
   "cell_type": "code",
   "execution_count": 405,
   "id": "e3d69b31",
   "metadata": {},
   "outputs": [],
   "source": [
    "from xgboost import XGBClassifier\n",
    "classif_xgboost = XGBClassifier()"
   ]
  },
  {
   "cell_type": "markdown",
   "id": "1c21e3a9",
   "metadata": {},
   "source": [
    "### One of the feature names contain symbols which are not allowed for XGBoost. It should be removed."
   ]
  },
  {
   "cell_type": "code",
   "execution_count": 419,
   "id": "c02b8cdd",
   "metadata": {},
   "outputs": [
    {
     "data": {
      "text/plain": [
       "['coupon_Restaurant(<20)']"
      ]
     },
     "execution_count": 419,
     "metadata": {},
     "output_type": "execute_result"
    }
   ],
   "source": [
    "illegal = []\n",
    "forbidden = ['[',']', '<']\n",
    "for col in X_train.columns:\n",
    "    for forbid in forbidden:\n",
    "        if forbid not in col:\n",
    "            pass\n",
    "        else:\n",
    "            illegal.append(col)\n",
    "illegal"
   ]
  },
  {
   "cell_type": "code",
   "execution_count": 422,
   "id": "f2b3a26a",
   "metadata": {},
   "outputs": [],
   "source": [
    "df_final.rename(columns={illegal[0]:'Coupon_RestaurantLessThan20'}, inplace=True)"
   ]
  },
  {
   "cell_type": "code",
   "execution_count": 423,
   "id": "cbe545cf",
   "metadata": {},
   "outputs": [],
   "source": [
    "#Performing train-test split again due to the column name change\n",
    "X = df_final.drop('Y', axis=1)\n",
    "y = df_final['Y']\n",
    "from sklearn.model_selection import train_test_split\n",
    "X_train, X_test, y_train, y_test = train_test_split(X, y, test_size=0.2, random_state=2)"
   ]
  },
  {
   "cell_type": "code",
   "execution_count": 424,
   "id": "504341b1",
   "metadata": {
    "scrolled": true
   },
   "outputs": [
    {
     "name": "stderr",
     "output_type": "stream",
     "text": [
      "C:\\Users\\Asus\\Anaconda3\\lib\\site-packages\\xgboost\\sklearn.py:1224: UserWarning: The use of label encoder in XGBClassifier is deprecated and will be removed in a future release. To remove this warning, do the following: 1) Pass option use_label_encoder=False when constructing XGBClassifier object; and 2) Encode your labels (y) as integers starting with 0, i.e. 0, 1, 2, ..., [num_class - 1].\n",
      "  warnings.warn(label_encoder_deprecation_msg, UserWarning)\n"
     ]
    },
    {
     "name": "stdout",
     "output_type": "stream",
     "text": [
      "[22:07:02] WARNING: C:/Users/Administrator/workspace/xgboost-win64_release_1.5.0/src/learner.cc:1115: Starting in XGBoost 1.3.0, the default evaluation metric used with the objective 'binary:logistic' was changed from 'error' to 'logloss'. Explicitly set eval_metric if you'd like to restore the old behavior.\n"
     ]
    }
   ],
   "source": [
    "classif_xgboost.fit(X_train, y_train)\n",
    "y_pred_xgboost = classif_xgboost.predict(X_test)"
   ]
  },
  {
   "cell_type": "code",
   "execution_count": 425,
   "id": "3ac5600a",
   "metadata": {},
   "outputs": [
    {
     "data": {
      "text/plain": [
       "0.773354355538037"
      ]
     },
     "execution_count": 425,
     "metadata": {},
     "output_type": "execute_result"
    }
   ],
   "source": [
    "accuracy_score(y_test, y_pred_xgboost)"
   ]
  },
  {
   "cell_type": "markdown",
   "id": "9b648357",
   "metadata": {},
   "source": [
    "## A variation of XGBoost"
   ]
  },
  {
   "cell_type": "code",
   "execution_count": 426,
   "id": "21b15496",
   "metadata": {},
   "outputs": [],
   "source": [
    "from xgboost import XGBRFClassifier\n",
    "classif_xgbrf = XGBRFClassifier()"
   ]
  },
  {
   "cell_type": "code",
   "execution_count": 427,
   "id": "8123f98e",
   "metadata": {},
   "outputs": [
    {
     "name": "stderr",
     "output_type": "stream",
     "text": [
      "C:\\Users\\Asus\\Anaconda3\\lib\\site-packages\\xgboost\\sklearn.py:1224: UserWarning: The use of label encoder in XGBClassifier is deprecated and will be removed in a future release. To remove this warning, do the following: 1) Pass option use_label_encoder=False when constructing XGBClassifier object; and 2) Encode your labels (y) as integers starting with 0, i.e. 0, 1, 2, ..., [num_class - 1].\n",
      "  warnings.warn(label_encoder_deprecation_msg, UserWarning)\n"
     ]
    },
    {
     "name": "stdout",
     "output_type": "stream",
     "text": [
      "[22:09:04] WARNING: C:/Users/Administrator/workspace/xgboost-win64_release_1.5.0/src/learner.cc:1115: Starting in XGBoost 1.3.0, the default evaluation metric used with the objective 'binary:logistic' was changed from 'error' to 'logloss'. Explicitly set eval_metric if you'd like to restore the old behavior.\n"
     ]
    }
   ],
   "source": [
    "classif_xgbrf.fit(X_train, y_train)\n",
    "y_pred_xgbrf = classif_xgbrf.predict(X_test)"
   ]
  },
  {
   "cell_type": "code",
   "execution_count": 428,
   "id": "c54bd618",
   "metadata": {},
   "outputs": [
    {
     "data": {
      "text/plain": [
       "0.7075285770595191"
      ]
     },
     "execution_count": 428,
     "metadata": {},
     "output_type": "execute_result"
    }
   ],
   "source": [
    "accuracy_score(y_test, y_pred_xgbrf)"
   ]
  },
  {
   "cell_type": "markdown",
   "id": "261eb4b4",
   "metadata": {},
   "source": [
    "### Less Accuracy :("
   ]
  },
  {
   "cell_type": "markdown",
   "id": "5c51ffd8",
   "metadata": {},
   "source": [
    "# Support Vector Classifier"
   ]
  },
  {
   "cell_type": "code",
   "execution_count": 429,
   "id": "5bb366c5",
   "metadata": {},
   "outputs": [],
   "source": [
    "from sklearn.svm import SVC\n",
    "svc = SVC()"
   ]
  },
  {
   "cell_type": "code",
   "execution_count": 430,
   "id": "11a12e95",
   "metadata": {},
   "outputs": [],
   "source": [
    "svc.fit(X_train, y_train)\n",
    "y_pred_svc = svc.predict(X_test)"
   ]
  },
  {
   "cell_type": "code",
   "execution_count": 431,
   "id": "038c4fda",
   "metadata": {},
   "outputs": [
    {
     "data": {
      "text/plain": [
       "0.5774536854552621"
      ]
     },
     "execution_count": 431,
     "metadata": {},
     "output_type": "execute_result"
    }
   ],
   "source": [
    "accuracy_score(y_test, y_pred_svc)"
   ]
  },
  {
   "cell_type": "markdown",
   "id": "06ccd116",
   "metadata": {},
   "source": [
    "# Naive Bayes"
   ]
  },
  {
   "cell_type": "code",
   "execution_count": 432,
   "id": "4cddd087",
   "metadata": {},
   "outputs": [],
   "source": [
    "from sklearn.naive_bayes import GaussianNB\n",
    "gnb = GaussianNB()"
   ]
  },
  {
   "cell_type": "code",
   "execution_count": 433,
   "id": "25007f78",
   "metadata": {},
   "outputs": [],
   "source": [
    "gnb.fit(X_train, y_train)\n",
    "y_pred_gnb = gnb.predict(X_test)"
   ]
  },
  {
   "cell_type": "code",
   "execution_count": 434,
   "id": "6332d0f3",
   "metadata": {},
   "outputs": [
    {
     "data": {
      "text/plain": [
       "0.6452502956247537"
      ]
     },
     "execution_count": 434,
     "metadata": {},
     "output_type": "execute_result"
    }
   ],
   "source": [
    "accuracy_score(y_test, y_pred_gnb)"
   ]
  },
  {
   "cell_type": "markdown",
   "id": "a4efc4ac",
   "metadata": {},
   "source": [
    "# Logistic Regression"
   ]
  },
  {
   "cell_type": "code",
   "execution_count": 435,
   "id": "54f98c28",
   "metadata": {},
   "outputs": [],
   "source": [
    "from sklearn.linear_model import LogisticRegression\n",
    "lr = LogisticRegression()"
   ]
  },
  {
   "cell_type": "code",
   "execution_count": 436,
   "id": "a6defee4",
   "metadata": {},
   "outputs": [],
   "source": [
    "lr.fit(X_train, y_train)\n",
    "y_pred_lr = lr.predict(X_test)"
   ]
  },
  {
   "cell_type": "code",
   "execution_count": 437,
   "id": "f6c21e7b",
   "metadata": {},
   "outputs": [
    {
     "data": {
      "text/plain": [
       "0.6058336618052819"
      ]
     },
     "execution_count": 437,
     "metadata": {},
     "output_type": "execute_result"
    }
   ],
   "source": [
    "accuracy_score(y_test, y_pred_lr)"
   ]
  },
  {
   "cell_type": "markdown",
   "id": "6ca7690d",
   "metadata": {},
   "source": [
    "### The best accuracy till now was given by Random forest after Hyperparameter Tuning\n",
    "    accuracy = 77.61%"
   ]
  },
  {
   "cell_type": "markdown",
   "id": "a4b5e78b",
   "metadata": {},
   "source": [
    "# Now, the deployment part"
   ]
  },
  {
   "cell_type": "code",
   "execution_count": null,
   "id": "5241ccbf",
   "metadata": {},
   "outputs": [],
   "source": []
  }
 ],
 "metadata": {
  "kernelspec": {
   "display_name": "Python 3",
   "language": "python",
   "name": "python3"
  },
  "language_info": {
   "codemirror_mode": {
    "name": "ipython",
    "version": 3
   },
   "file_extension": ".py",
   "mimetype": "text/x-python",
   "name": "python",
   "nbconvert_exporter": "python",
   "pygments_lexer": "ipython3",
   "version": "3.8.8"
  }
 },
 "nbformat": 4,
 "nbformat_minor": 5
}
